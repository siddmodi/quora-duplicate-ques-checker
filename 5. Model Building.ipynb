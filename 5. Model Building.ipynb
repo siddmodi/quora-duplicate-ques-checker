{
  "nbformat": 4,
  "nbformat_minor": 0,
  "metadata": {
    "colab": {
      "name": "working_model.ipynb",
      "provenance": [],
      "collapsed_sections": []
    },
    "kernelspec": {
      "name": "python3",
      "display_name": "Python 3"
    },
    "language_info": {
      "name": "python"
    },
    "accelerator": "GPU"
  },
  "cells": [
    {
      "cell_type": "code",
      "source": [
        "import pandas as pd\n",
        "from sklearn.model_selection import train_test_split\n",
        "import numpy as np"
      ],
      "metadata": {
        "id": "73XmAVzsLIZf"
      },
      "execution_count": 1,
      "outputs": []
    },
    {
      "cell_type": "code",
      "source": [
        "df = pd.read_csv('/content/drive/MyDrive/final_df.csv',index_col=[0])"
      ],
      "metadata": {
        "id": "9fW7HwqQLQc3"
      },
      "execution_count": 2,
      "outputs": []
    },
    {
      "cell_type": "markdown",
      "source": [
        "**Train - Test Split**"
      ],
      "metadata": {
        "id": "OQFp1zp-fSzC"
      }
    },
    {
      "cell_type": "code",
      "execution_count": 3,
      "metadata": {
        "id": "CVOHK3m2LEcg"
      },
      "outputs": [],
      "source": [
        "x = df.iloc[:,1:].values\n",
        "y = df.iloc[:,0].values\n",
        "\n",
        "X_train,X_test,y_train,y_test = train_test_split(x,y,test_size=0.2,random_state=1)"
      ]
    },
    {
      "cell_type": "markdown",
      "source": [
        "**Model Training**"
      ],
      "metadata": {
        "id": "AfwlTxB_L7Jt"
      }
    },
    {
      "cell_type": "code",
      "source": [
        "from sklearn.metrics import accuracy_score\n",
        "from sklearn.model_selection import cross_val_score\n",
        "\n",
        "from sklearn.ensemble import RandomForestClassifier\n",
        "from xgboost import XGBClassifier\n",
        "from sklearn.tree import DecisionTreeClassifier\n",
        "from sklearn.ensemble import GradientBoostingClassifier"
      ],
      "metadata": {
        "id": "WLaejPaiL48w"
      },
      "execution_count": 4,
      "outputs": []
    },
    {
      "cell_type": "code",
      "source": [
        "# rf = RandomForestClassifier()\n",
        "# xgb = XGBClassifier()\n",
        "# dt = DecisionTreeClassifier()\n",
        "# gb = GradientBoostingClassifier()\n",
        "\n",
        "# models = [rf,xgb,dt,gb]\n",
        "\n",
        "# accuracy_score_mean = []\n",
        "# for model in models:\n",
        "#   score = cross_val_score(model, x, y, scoring='accuracy', cv=5, n_jobs=-1).mean()\n",
        "#   accuracy_score_mean.append(score)\n",
        "\n",
        "# # model with highest accuracy score we choose based on less false positive"
      ],
      "metadata": {
        "id": "CA_gB962L5Aj"
      },
      "execution_count": 5,
      "outputs": []
    },
    {
      "cell_type": "code",
      "source": [
        "# Due to less resources "
      ],
      "metadata": {
        "id": "0Gg-aIjLX75R"
      },
      "execution_count": 6,
      "outputs": []
    },
    {
      "cell_type": "code",
      "source": [
        "model_rf = RandomForestClassifier()\n",
        "model_rf.fit(X_train,y_train)\n",
        "y_pred = model_rf.predict(X_test)\n",
        "accuracy_score(y_test,y_pred)"
      ],
      "metadata": {
        "colab": {
          "base_uri": "https://localhost:8080/"
        },
        "id": "_3Gx_EIkiht1",
        "outputId": "18450ac5-124b-46e2-fd24-5fcb0b2dc893"
      },
      "execution_count": 7,
      "outputs": [
        {
          "output_type": "execute_result",
          "data": {
            "text/plain": [
              "0.800875"
            ]
          },
          "metadata": {},
          "execution_count": 7
        }
      ]
    },
    {
      "cell_type": "code",
      "source": [
        "# from xgboost import XGBClassifier\n",
        "# model_xgb = XGBClassifier()\n",
        "# model_xgb.fit(X_train,y_train)\n",
        "# y_pred1 = model_xgb.predict(X_test)\n",
        "# accuracy_score(y_test,y_pred1)"
      ],
      "metadata": {
        "id": "Kb8OBIfEim5c"
      },
      "execution_count": 8,
      "outputs": []
    },
    {
      "cell_type": "markdown",
      "source": [
        "**Evaluating models**"
      ],
      "metadata": {
        "id": "S7uQJ6Ooi__Y"
      }
    },
    {
      "cell_type": "code",
      "source": [
        "from sklearn.metrics import confusion_matrix"
      ],
      "metadata": {
        "id": "lWqj7Bsriyyw"
      },
      "execution_count": 9,
      "outputs": []
    },
    {
      "cell_type": "code",
      "source": [
        "# for random forest model\n",
        "confusion_matrix(y_test,y_pred)"
      ],
      "metadata": {
        "id": "3f8v0JrBiy1x"
      },
      "execution_count": null,
      "outputs": []
    },
    {
      "cell_type": "code",
      "source": [
        "# for xgboost model\n",
        "confusion_matrix(y_test,y_pred)"
      ],
      "metadata": {
        "id": "7T_0N3jIiy5U"
      },
      "execution_count": null,
      "outputs": []
    },
    {
      "cell_type": "code",
      "source": [
        "# Despite of having high accuracy in xgboost we choose random forest because of less false positive \n",
        "# Here false positive must be less otherwise it'll merge those questions which are not duplicate results into bad user expirience"
      ],
      "metadata": {
        "id": "XE1HUd66iy9C"
      },
      "execution_count": 5,
      "outputs": []
    },
    {
      "cell_type": "markdown",
      "source": [
        "**Dump model**"
      ],
      "metadata": {
        "id": "GxGNYwhOlka6"
      }
    },
    {
      "cell_type": "code",
      "source": [
        "import pickle\n",
        "\n",
        "pickle.dump(model_rf,open('/content/drive/MyDrive/model.pkl','wb'))"
      ],
      "metadata": {
        "id": "g5ts_adVln_1"
      },
      "execution_count": 17,
      "outputs": []
    },
    {
      "cell_type": "code",
      "source": [
        ""
      ],
      "metadata": {
        "id": "AOj-ilZkmOww"
      },
      "execution_count": null,
      "outputs": []
    }
  ]
}